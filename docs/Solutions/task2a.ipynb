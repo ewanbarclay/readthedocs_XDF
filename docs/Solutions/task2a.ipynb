{
 "cells": [
  {
   "cell_type": "markdown",
   "metadata": {},
   "source": [
    "# Task 2a Solution"
   ]
  },
  {
   "cell_type": "code",
   "execution_count": 1,
   "metadata": {},
   "outputs": [],
   "source": [
    "import numpy as np\n",
    "from astropy.io import fits"
   ]
  },
  {
   "cell_type": "code",
   "execution_count": 2,
   "metadata": {},
   "outputs": [],
   "source": [
    "save = True"
   ]
  },
  {
   "cell_type": "markdown",
   "metadata": {},
   "source": [
    "--- create a near-IR detection image by combining (stacking) a list of images together"
   ]
  },
  {
   "cell_type": "code",
   "execution_count": 3,
   "metadata": {},
   "outputs": [],
   "source": [
    "image_dir = 'data' # image directory relative to this script"
   ]
  },
  {
   "cell_type": "code",
   "execution_count": 4,
   "metadata": {},
   "outputs": [],
   "source": [
    "filters = ['f105w','f125w','f140w','f160w'] # list of images in different filters to combine (stack)"
   ]
  },
  {
   "cell_type": "code",
   "execution_count": 5,
   "metadata": {},
   "outputs": [],
   "source": [
    "sci = {f: fits.getdata(f'{image_dir}/{f}_sci.fits') for f in filters} # read sci images\n",
    "wht = {f: fits.getdata(f'{image_dir}/{f}_wht.fits') for f in filters} # read weight images"
   ]
  },
  {
   "cell_type": "code",
   "execution_count": 6,
   "metadata": {},
   "outputs": [],
   "source": [
    "shape = next(iter(sci.values())).shape\n",
    "combined_sci = np.zeros(shape)\n",
    "combined_wht = np.zeros(shape)"
   ]
  },
  {
   "cell_type": "code",
   "execution_count": 7,
   "metadata": {},
   "outputs": [],
   "source": [
    "for f in filters:\n",
    "    combined_sci += sci[f] * wht[f]\n",
    "    combined_wht += wht[f]"
   ]
  },
  {
   "cell_type": "code",
   "execution_count": 8,
   "metadata": {},
   "outputs": [
    {
     "name": "stderr",
     "output_type": "stream",
     "text": [
      "<ipython-input-8-bec522ab799b>:1: RuntimeWarning: invalid value encountered in true_divide\n",
      "  combined_sci /= combined_wht\n"
     ]
    }
   ],
   "source": [
    "combined_sci /= combined_wht"
   ]
  },
  {
   "cell_type": "code",
   "execution_count": 9,
   "metadata": {},
   "outputs": [],
   "source": [
    "if save:\n",
    "    np.save('data/detection_sci.npy', combined_sci)\n",
    "    np.save('data/detection_wht.npy', combined_wht)"
   ]
  }
 ],
 "metadata": {
  "kernelspec": {
   "display_name": "Python 3",
   "language": "python",
   "name": "python3"
  },
  "language_info": {
   "codemirror_mode": {
    "name": "ipython",
    "version": 3
   },
   "file_extension": ".py",
   "mimetype": "text/x-python",
   "name": "python",
   "nbconvert_exporter": "python",
   "pygments_lexer": "ipython3",
   "version": "3.8.3"
  }
 },
 "nbformat": 4,
 "nbformat_minor": 2
}
