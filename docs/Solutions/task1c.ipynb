{
 "cells": [
  {
   "cell_type": "markdown",
   "metadata": {},
   "source": [
    "# Task 1c Solution"
   ]
  },
  {
   "cell_type": "code",
   "execution_count": null,
   "metadata": {},
   "outputs": [],
   "source": [
    "import numpy as np\n",
    "from astropy.io import fits\n",
    "from matplotlib import cm\n",
    "import matplotlib.pyplot as plt"
   ]
  },
  {
   "cell_type": "code",
   "execution_count": null,
   "metadata": {},
   "outputs": [],
   "source": [
    "image_dir = 'data' # image directory relative to this script"
   ]
  },
  {
   "cell_type": "code",
   "execution_count": null,
   "metadata": {},
   "outputs": [],
   "source": [
    "mask = fits.getdata(f'{image_dir}/mask.fits') # read in the image mask"
   ]
  },
  {
   "cell_type": "markdown",
   "metadata": {},
   "source": [
    "--- define the filters to be combined for each channel"
   ]
  },
  {
   "cell_type": "code",
   "execution_count": null,
   "metadata": {},
   "outputs": [],
   "source": [
    "filters = {}\n",
    "filters['B'] = ['f435w','f606w']\n",
    "filters['G'] = ['f775w','f850lp']\n",
    "filters['R'] = ['f105w','f125w','f140w','f160w']"
   ]
  },
  {
   "cell_type": "markdown",
   "metadata": {},
   "source": [
    "--- combine the filters in each channel"
   ]
  },
  {
   "cell_type": "code",
   "execution_count": null,
   "metadata": {},
   "outputs": [],
   "source": [
    "im = {} # dictionary to hold the combined images"
   ]
  },
  {
   "cell_type": "code",
   "execution_count": null,
   "metadata": {},
   "outputs": [],
   "source": [
    "for channel in 'RGB':\n",
    "    fs = filters[channel]\n",
    "    sci = {f: fits.getdata(f'{image_dir}/{f}_sci.fits') for f in fs} # read sci images\n",
    "    wht = {f: fits.getdata(f'{image_dir}/{f}_wht.fits') for f in fs} # read weight images\n",
    "    shape = next(iter(sci.values())).shape\n",
    "    combined_sci = np.zeros(shape)   #create empty array to fill combined sci/wht images\n",
    "    combined_wht = np.zeros(shape)\n",
    "    for f in fs:\n",
    "        combined_sci += sci[f] * wht[f]        #combine images from different filters\n",
    "        combined_wht += wht[f]\n",
    "    combined_sci /= combined_wht\n",
    "\n",
    "    # --- apply the mask to our image\n",
    "    combined_sci = np.ma.masked_array(combined_sci, mask = mask)\n",
    "\n",
    "    # --- clip negative and erroneously high values and rescale values to be 0 - 1\n",
    "    # --- NOTE: you can play around here to change the colour balance and contrast of your images\n",
    "    vmin = 0 # exclude negative values (anything less than vmin gets mapped to vmin)\n",
    "    vmax =  np.percentile(combined_sci[~np.isnan(combined_sci)], 99) # exclude the brightest 1% of pixels (anything above gets mapped to that value)\n",
    "    norm = cm.colors.Normalize(vmin, vmax) # normalisation function\n",
    "    combined_sci = norm(combined_sci) # apply normalisation function\n",
    "\n",
    "    # --- set masked values to zero\n",
    "    im[channel] = np.ma.filled(combined_sci, 0.0) # return masked array with masked values set to 0.0 (this makes those pixels black)"
   ]
  },
  {
   "cell_type": "code",
   "execution_count": null,
   "metadata": {},
   "outputs": [],
   "source": [
    "rgb = np.dstack((im['R'],im['G'],im['B'])) # stack images into a single array"
   ]
  },
  {
   "cell_type": "markdown",
   "metadata": {},
   "source": [
    "--- make image and show"
   ]
  },
  {
   "cell_type": "code",
   "execution_count": null,
   "metadata": {},
   "outputs": [],
   "source": [
    "dpi = rgb.shape[0] # set dots per inch equal to the number of pixels.\n",
    "fig = plt.figure(figsize = (1, 1), dpi = dpi)\n",
    "ax = fig.add_axes((0.0, 0.0, 1.0, 1.0)) # define axes to cover entire field\n",
    "ax.axis('off') # turn off axes frame, ticks, and labels"
   ]
  },
  {
   "cell_type": "code",
   "execution_count": null,
   "metadata": {},
   "outputs": [],
   "source": [
    "ax.imshow(rgb) # shouldn't see much because the scale is dominated by outlier pixels\n",
    "fig.savefig('figures/XDF_rgb.png')"
   ]
  }
 ],
 "metadata": {
  "kernelspec": {
   "display_name": "Python 3",
   "language": "python",
   "name": "python3"
  },
  "language_info": {
   "codemirror_mode": {
    "name": "ipython",
    "version": 3
   },
   "file_extension": ".py",
   "mimetype": "text/x-python",
   "name": "python",
   "nbconvert_exporter": "python",
   "pygments_lexer": "ipython3",
   "version": "3.8.3"
  }
 },
 "nbformat": 4,
 "nbformat_minor": 2
}
