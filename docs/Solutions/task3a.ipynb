{
 "cells": [
  {
   "cell_type": "markdown",
   "metadata": {},
   "source": [
    "# Task 3a Solution"
   ]
  },
  {
   "cell_type": "code",
   "execution_count": 1,
   "metadata": {},
   "outputs": [],
   "source": [
    "import numpy as np\n",
    "import matplotlib.pyplot as plt\n",
    "import pickle"
   ]
  },
  {
   "cell_type": "code",
   "execution_count": 2,
   "metadata": {},
   "outputs": [],
   "source": [
    "#Conversion dictionary for signal into flux\n",
    "nJy_to_es = {'f435w': 0.005171303179169625, 'f606w': 0.011015393095414123, 'f775w': 0.005142804319487919, 'f850lp': 0.0024366884234595892, 'f105w': 0.008863392873279346, 'f125w': 0.008550667128846823, 'f140w': 0.010490592077764458, 'f160w': 0.006582638416409025}"
   ]
  },
  {
   "cell_type": "code",
   "execution_count": 3,
   "metadata": {},
   "outputs": [],
   "source": [
    "filters = ['f435w','f606w', 'f775w','f850lp', 'f105w','f125w','f140w','f160w']"
   ]
  },
  {
   "cell_type": "code",
   "execution_count": 4,
   "metadata": {},
   "outputs": [],
   "source": [
    "cat = pickle.load(open('data/cat.p', 'rb'))  # read in signal catalogue created in task 2f"
   ]
  },
  {
   "cell_type": "code",
   "execution_count": 5,
   "metadata": {},
   "outputs": [],
   "source": [
    "fluxes = {f: cat[f'{f}_signal']/nJy_to_es[f] for f in filters} # convert to flux/nJy\n",
    "errors = {f: cat[f'{f}_noise']/nJy_to_es[f] for f in filters}"
   ]
  },
  {
   "cell_type": "code",
   "execution_count": 6,
   "metadata": {},
   "outputs": [],
   "source": [
    "r1 = fluxes['f105w']/fluxes['f125w'] # break colour (mag) - usually on y-axis\n",
    "r2 = fluxes['f850lp']/fluxes['f105w'] # slope colour (mag) - usually on x-axis"
   ]
  },
  {
   "cell_type": "code",
   "execution_count": 7,
   "metadata": {},
   "outputs": [],
   "source": [
    "r1_errors = np.sqrt((r1**2)*((errors['f105w']**2/fluxes['f105w']**2)+(errors['f125w']**2/fluxes['f125w']**2)))  #add uncertainties using error propagation\n",
    "r2_errors = np.sqrt((r2**2)*((errors['f850lp']**2/fluxes['f850lp']**2)+(errors['f105w']**2/fluxes['f105w']**2)))"
   ]
  },
  {
   "cell_type": "code",
   "execution_count": 8,
   "metadata": {
    "scrolled": true
   },
   "outputs": [
    {
     "data": {
      "image/png": "[encoded data removed]",
      "text/plain": [
       "<Figure size 432x288 with 1 Axes>"
      ]
     },
     "metadata": {
      "needs_background": "light"
     },
     "output_type": "display_data"
    },
    {
     "data": {
      "text/plain": [
       "<Figure size 432x288 with 0 Axes>"
      ]
     },
     "metadata": {},
     "output_type": "display_data"
    }
   ],
   "source": [
    "#Plot all objects\n",
    "markers,caps,bars = plt.errorbar(r1, r2, xerr = r1_errors, yerr = r2_errors, fmt='o',markersize = 5, ecolor='black')\n",
    "[bar.set_alpha(0.4) for bar in bars]\n",
    "plt.xlim([-0.3,2])\n",
    "plt.ylim([-0.3,2])\n",
    "plt.show()\n",
    "plt.savefig('figures/3a.pdf')"
   ]
  }
 ],
 "metadata": {
  "kernelspec": {
   "display_name": "Python 3",
   "language": "python",
   "name": "python3"
  },
  "language_info": {
   "codemirror_mode": {
    "name": "ipython",
    "version": 3
   },
   "file_extension": ".py",
   "mimetype": "text/x-python",
   "name": "python",
   "nbconvert_exporter": "python",
   "pygments_lexer": "ipython3",
   "version": "3.8.3"
  }
 },
 "nbformat": 4,
 "nbformat_minor": 2
}
