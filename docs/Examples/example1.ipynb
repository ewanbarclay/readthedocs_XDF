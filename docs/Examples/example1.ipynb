{
 "cells": [
  {
   "cell_type": "markdown",
   "metadata": {},
   "source": [
    "--- In this example you can see how to read an image, apply a mask, and work with an array of pixel values."
   ]
  },
  {
   "cell_type": "code",
   "execution_count": 1,
   "metadata": {},
   "outputs": [],
   "source": [
    "import numpy as np\n",
    "from astropy.io import fits"
   ]
  },
  {
   "cell_type": "code",
   "execution_count": 2,
   "metadata": {},
   "outputs": [],
   "source": [
    "image_dir = 'data' # define image directory relative to this script"
   ]
  },
  {
   "cell_type": "code",
   "execution_count": 3,
   "metadata": {},
   "outputs": [],
   "source": [
    "f = 'f125w' # filter"
   ]
  },
  {
   "cell_type": "code",
   "execution_count": 4,
   "metadata": {},
   "outputs": [],
   "source": [
    "sci = fits.getdata(f'{image_dir}/{f}_sci.fits') # read FITS file data into numpy array"
   ]
  },
  {
   "cell_type": "code",
   "execution_count": 5,
   "metadata": {},
   "outputs": [
    {
     "name": "stdout",
     "output_type": "stream",
     "text": [
      "dimensions of image: (5250, 5250)\n",
      "total number of pixels (from image): 27562500\n"
     ]
    }
   ],
   "source": [
    "print(f'dimensions of image: {sci.shape}') # print the shape (dimensions) of the image\n",
    "print(f'total number of pixels (from image): {sci.size}') # total number of real data pixels"
   ]
  },
  {
   "cell_type": "code",
   "execution_count": 6,
   "metadata": {},
   "outputs": [],
   "source": [
    "mask = fits.getdata(f'{image_dir}/mask.fits') # read in the image mask"
   ]
  },
  {
   "cell_type": "code",
   "execution_count": 7,
   "metadata": {},
   "outputs": [],
   "source": [
    "sci = np.ma.masked_array(sci, mask = mask) # apply the mask to our image"
   ]
  },
  {
   "cell_type": "code",
   "execution_count": 8,
   "metadata": {},
   "outputs": [],
   "source": [
    "pix = sci.flatten() #Â flatten the masked image to produce a list of pixels"
   ]
  },
  {
   "cell_type": "code",
   "execution_count": 9,
   "metadata": {},
   "outputs": [
    {
     "name": "stdout",
     "output_type": "stream",
     "text": [
      "total number of pixels (from masked image): 27562500\n",
      "total number of pixels (from masked flattened image): 27562500\n"
     ]
    }
   ],
   "source": [
    "print(f'total number of pixels (from masked image): {sci.size}') # total number of real data pixels\n",
    "print(f'total number of pixels (from masked flattened image): {pix.size}') # total number of real data pixels"
   ]
  },
  {
   "cell_type": "code",
   "execution_count": 10,
   "metadata": {},
   "outputs": [],
   "source": [
    "pix = pix[~pix.mask] # remove pixels that were masked"
   ]
  },
  {
   "cell_type": "code",
   "execution_count": 11,
   "metadata": {},
   "outputs": [
    {
     "name": "stdout",
     "output_type": "stream",
     "text": [
      "total number of pixels (from masked flattened image with masked pixels removed): 4043012\n"
     ]
    }
   ],
   "source": [
    "print(f'total number of pixels (from masked flattened image with masked pixels removed): {pix.size}') # total number of real data pixels"
   ]
  },
  {
   "cell_type": "code",
   "execution_count": 12,
   "metadata": {},
   "outputs": [
    {
     "name": "stdout",
     "output_type": "stream",
     "text": [
      "minimum: -3.3558568954467773\n",
      "16th percentile: -0.0005067630694247782\n",
      "median: 0.00012366377632133663\n",
      "84th percentile: 0.0010958873573690651\n",
      "maximum: 68.6301040649414\n"
     ]
    },
    {
     "name": "stderr",
     "output_type": "stream",
     "text": [
      "C:\\Users\\Ewan Barclay\\anaconda3\\lib\\site-packages\\numpy\\core\\fromnumeric.py:746: UserWarning: Warning: 'partition' will ignore the 'mask' of the MaskedArray.\n",
      "  a.partition(kth, axis=axis, kind=kind, order=order)\n"
     ]
    }
   ],
   "source": [
    "print(f'minimum: {np.min(pix)}') # print the minimum value\n",
    "print(f'16th percentile: {np.percentile(pix, 16)}') # print the 16th percentile\n",
    "print(f'median: {np.median(pix)}') # print the median\n",
    "print(f'84th percentile: {np.percentile(pix, 84)}') # print the 84th percentile\n",
    "print(f'maximum: {np.max(pix)}') # print the maximum"
   ]
  }
 ],
 "metadata": {
  "kernelspec": {
   "display_name": "Python 3",
   "language": "python",
   "name": "python3"
  },
  "language_info": {
   "codemirror_mode": {
    "name": "ipython",
    "version": 3
   },
   "file_extension": ".py",
   "mimetype": "text/x-python",
   "name": "python",
   "nbconvert_exporter": "python",
   "pygments_lexer": "ipython3",
   "version": "3.8.3"
  }
 },
 "nbformat": 4,
 "nbformat_minor": 2
}
