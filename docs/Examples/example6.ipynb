{
 "cells": [
  {
   "cell_type": "markdown",
   "metadata": {},
   "source": [
    "--- In this example we run segmentation on a significance image to identify sources."
   ]
  },
  {
   "cell_type": "code",
   "execution_count": 1,
   "metadata": {},
   "outputs": [],
   "source": [
    "import numpy as np\n",
    "from astropy.io import fits"
   ]
  },
  {
   "cell_type": "code",
   "execution_count": 2,
   "metadata": {},
   "outputs": [],
   "source": [
    "image_dir = 'data' # define image directory relative to this script"
   ]
  },
  {
   "cell_type": "code",
   "execution_count": 3,
   "metadata": {},
   "outputs": [],
   "source": [
    "f = 'f125w' # filter"
   ]
  },
  {
   "cell_type": "code",
   "execution_count": 4,
   "metadata": {},
   "outputs": [],
   "source": [
    "sci = fits.getdata(f'{image_dir}/{f}_sci.fits') # read science FITS file data into numpy array\n",
    "wht = fits.getdata(f'{image_dir}/{f}_wht.fits') # read weight FITS file data into numpy array"
   ]
  },
  {
   "cell_type": "code",
   "execution_count": 5,
   "metadata": {},
   "outputs": [],
   "source": [
    "mask = fits.getdata(f'{image_dir}/mask.fits') # read in the image mask\n",
    "sci = np.ma.masked_array(sci, mask = mask) # apply the mask to our science image\n",
    "wht = np.ma.masked_array(wht, mask = mask) # apply the mask to our weight image"
   ]
  },
  {
   "cell_type": "markdown",
   "metadata": {},
   "source": [
    "--- cut out a portion of the image for analysis"
   ]
  },
  {
   "cell_type": "code",
   "execution_count": 6,
   "metadata": {},
   "outputs": [],
   "source": [
    "x = 2500 # pixel x-centre of cutout, must be an integer\n",
    "y = 2500 # pixel y-centre of cutout, must be an integer\n",
    "r = 100 # width/2 of cutout, must be int"
   ]
  },
  {
   "cell_type": "code",
   "execution_count": 7,
   "metadata": {},
   "outputs": [],
   "source": [
    "sci = sci[x-r:x+r, y-r:y+r] # cutout a portion of the science image\n",
    "wht = wht[x-r:x+r, y-r:y+r] # cutout a portion of the weight image"
   ]
  },
  {
   "cell_type": "markdown",
   "metadata": {},
   "source": [
    "--- define the noise in each pixel and make a significance map (signal/noise)"
   ]
  },
  {
   "cell_type": "code",
   "execution_count": 8,
   "metadata": {},
   "outputs": [],
   "source": [
    "noise = 1./np.sqrt(wht) #Â conversion from weight to noise\n",
    "sig = sci/noise # signifance map"
   ]
  },
  {
   "cell_type": "markdown",
   "metadata": {},
   "source": [
    "--- now run segmentation on the image. Segmentation identifies groups of connected pixels which are all above some threshold."
   ]
  },
  {
   "cell_type": "code",
   "execution_count": 9,
   "metadata": {},
   "outputs": [],
   "source": [
    "from photutils import detect_sources"
   ]
  },
  {
   "cell_type": "code",
   "execution_count": 10,
   "metadata": {},
   "outputs": [],
   "source": [
    "threshold = 2.5 # require each pixel have a significance of >2.5 (since we're using the significance image)\n",
    "npixels = 5 # require at least 5 connected pixels"
   ]
  },
  {
   "cell_type": "code",
   "execution_count": 11,
   "metadata": {},
   "outputs": [],
   "source": [
    "segm = detect_sources(sig, threshold, npixels=npixels) # make segmentation image"
   ]
  },
  {
   "cell_type": "code",
   "execution_count": 12,
   "metadata": {},
   "outputs": [
    {
     "name": "stdout",
     "output_type": "stream",
     "text": [
      "total number of sources in original map: 20\n"
     ]
    }
   ],
   "source": [
    "print(f'total number of sources in original map: {segm.max_label}')\n",
    "# print(f'total number of sources in original map: {segm.nlabels}') # also works\n",
    "# print(f'total number of sources in original map: {np.max(segm.data)}') # also works"
   ]
  },
  {
   "cell_type": "markdown",
   "metadata": {},
   "source": [
    "The segmentation image has the same dimensions as the input image. Each pixel in the segmentation image has an integer value. If $p_{i,j}=0$ this means that pixel isn't associated with a source. If $p_{i,j}>0$ that pixel is part of an object. Using imshow on the segmentation map will automatically colour each image by a different colour."
   ]
  },
  {
   "cell_type": "code",
   "execution_count": 13,
   "metadata": {},
   "outputs": [],
   "source": [
    "import matplotlib.pyplot as plt"
   ]
  },
  {
   "cell_type": "code",
   "execution_count": 14,
   "metadata": {},
   "outputs": [
    {
     "data": {
      "image/png": "[encoded data removed]",
      "text/plain": [
       "<Figure size 200x200 with 1 Axes>"
      ]
     },
     "metadata": {
      "needs_background": "light"
     },
     "output_type": "display_data"
    }
   ],
   "source": [
    "fig = plt.figure(figsize = (1, 1), dpi = segm.data.shape[0])\n",
    "ax = fig.add_axes((0.0, 0.0, 1.0, 1.0)) # define axes to cover entire field\n",
    "ax.axis('off') # turn off axes frame, ticks, and labels\n",
    "ax.imshow(segm, cmap = 'rainbow')\n",
    "plt.show()\n",
    "fig.savefig('segm.png')"
   ]
  },
  {
   "cell_type": "markdown",
   "metadata": {},
   "source": [
    "If two sources overlap simple segmentation can merge them together. This can be over-come using de-blending"
   ]
  },
  {
   "cell_type": "code",
   "execution_count": 15,
   "metadata": {},
   "outputs": [],
   "source": [
    "from photutils import deblend_sources"
   ]
  },
  {
   "cell_type": "code",
   "execution_count": 16,
   "metadata": {},
   "outputs": [],
   "source": [
    "segm_deblend = deblend_sources(sig, segm, npixels=npixels, nlevels=32, contrast=0.001)"
   ]
  },
  {
   "cell_type": "code",
   "execution_count": 17,
   "metadata": {},
   "outputs": [
    {
     "name": "stdout",
     "output_type": "stream",
     "text": [
      "total number of sources in debelended map: 24\n"
     ]
    }
   ],
   "source": [
    "print(f'total number of sources in debelended map: {segm_deblend.max_label}')"
   ]
  },
  {
   "cell_type": "code",
   "execution_count": 18,
   "metadata": {},
   "outputs": [
    {
     "data": {
      "image/png": "[encoded data removed]",
      "text/plain": [
       "<Figure size 200x200 with 1 Axes>"
      ]
     },
     "metadata": {
      "needs_background": "light"
     },
     "output_type": "display_data"
    }
   ],
   "source": [
    "fig = plt.figure(figsize = (1, 1), dpi = segm_deblend.data.shape[0])\n",
    "ax = fig.add_axes((0.0, 0.0, 1.0, 1.0)) # define axes to cover entire field\n",
    "ax.axis('off') # turn off axes frame, ticks, and labels\n",
    "ax.imshow(segm_deblend, cmap = 'rainbow')\n",
    "plt.show()\n",
    "fig.savefig('segm_deblend.png')"
   ]
  }
 ],
 "metadata": {
  "kernelspec": {
   "display_name": "Python 3",
   "language": "python",
   "name": "python3"
  },
  "language_info": {
   "codemirror_mode": {
    "name": "ipython",
    "version": 3
   },
   "file_extension": ".py",
   "mimetype": "text/x-python",
   "name": "python",
   "nbconvert_exporter": "python",
   "pygments_lexer": "ipython3",
   "version": "3.8.3"
  }
 },
 "nbformat": 4,
 "nbformat_minor": 2
}
