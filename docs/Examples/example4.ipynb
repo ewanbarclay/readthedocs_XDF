{
 "cells": [
  {
   "cell_type": "markdown",
   "metadata": {},
   "source": [
    "#### --- In this example you will learn to approproately combine (stack) different images"
   ]
  },
  {
   "cell_type": "code",
   "execution_count": 1,
   "metadata": {},
   "outputs": [],
   "source": [
    "import numpy as np\n",
    "from astropy.io import fits\n",
    "import matplotlib.pyplot as plt"
   ]
  },
  {
   "cell_type": "code",
   "execution_count": 2,
   "metadata": {},
   "outputs": [],
   "source": [
    "save = False"
   ]
  },
  {
   "cell_type": "markdown",
   "metadata": {},
   "source": [
    "--- combine (stack) a list of images together"
   ]
  },
  {
   "cell_type": "code",
   "execution_count": 3,
   "metadata": {},
   "outputs": [],
   "source": [
    "image_dir = 'data' # image directory relative to this script"
   ]
  },
  {
   "cell_type": "code",
   "execution_count": 4,
   "metadata": {},
   "outputs": [],
   "source": [
    "mask = fits.getdata(f'{image_dir}/mask.fits') # read in the image mask"
   ]
  },
  {
   "cell_type": "code",
   "execution_count": 5,
   "metadata": {},
   "outputs": [],
   "source": [
    "filters = ['f435w','f606w'] # list of images to combine (stack)"
   ]
  },
  {
   "cell_type": "code",
   "execution_count": 6,
   "metadata": {},
   "outputs": [],
   "source": [
    "sci = {f: fits.getdata(f'{image_dir}/{f}_sci.fits') for f in filters} # read sci images\n",
    "wht = {f: fits.getdata(f'{image_dir}/{f}_wht.fits') for f in filters} # read weight images"
   ]
  },
  {
   "cell_type": "code",
   "execution_count": 7,
   "metadata": {
    "scrolled": true
   },
   "outputs": [],
   "source": [
    "shape = next(iter(sci.values())).shape\n",
    "combined_sci = np.zeros(shape)   #create empty array to fill combined sci/wht images\n",
    "combined_wht = np.zeros(shape)  "
   ]
  },
  {
   "cell_type": "code",
   "execution_count": 8,
   "metadata": {},
   "outputs": [],
   "source": [
    "for f in filters:                    #combine images from different filters\n",
    "    combined_sci += sci[f] * wht[f]\n",
    "    combined_wht += wht[f]"
   ]
  },
  {
   "cell_type": "markdown",
   "metadata": {},
   "source": [
    "--- NOTE: this image can be used \"as-is\" or saved as a numpy array and read in later. To read back in simply use \"array = np.load(filename)\""
   ]
  },
  {
   "cell_type": "code",
   "execution_count": 9,
   "metadata": {},
   "outputs": [],
   "source": [
    "if save:\n",
    "    filename = '_'.join(filters)\n",
    "    np.save(f'{filename}_sci.npy', combined_sci)\n",
    "    np.save(f'{filename}_wht.npy', combined_wht)"
   ]
  }
 ],
 "metadata": {
  "kernelspec": {
   "display_name": "Python 3",
   "language": "python",
   "name": "python3"
  },
  "language_info": {
   "codemirror_mode": {
    "name": "ipython",
    "version": 3
   },
   "file_extension": ".py",
   "mimetype": "text/x-python",
   "name": "python",
   "nbconvert_exporter": "python",
   "pygments_lexer": "ipython3",
   "version": "3.8.3"
  }
 },
 "nbformat": 4,
 "nbformat_minor": 2
}
